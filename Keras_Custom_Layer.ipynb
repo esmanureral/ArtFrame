{
  "nbformat": 4,
  "nbformat_minor": 0,
  "metadata": {
    "colab": {
      "provenance": [],
      "authorship_tag": "ABX9TyODg2yVnKVMxHXdfrP/gMGg",
      "include_colab_link": true
    },
    "kernelspec": {
      "name": "python3",
      "display_name": "Python 3"
    },
    "language_info": {
      "name": "python"
    }
  },
  "cells": [
    {
      "cell_type": "markdown",
      "metadata": {
        "id": "view-in-github",
        "colab_type": "text"
      },
      "source": [
        "<a href=\"https://colab.research.google.com/github/esmanureral/ArtFrame/blob/master/Keras_Custom_Layer.ipynb\" target=\"_parent\"><img src=\"https://colab.research.google.com/assets/colab-badge.svg\" alt=\"Open In Colab\"/></a>"
      ]
    },
    {
      "cell_type": "markdown",
      "source": [
        "**Keras ile üç türlü model oluşturabiliriz.**\n",
        "\n",
        "1) Sequential API\n",
        "esnek değil kompleks model kurmak zordur.\n",
        "\n",
        "2) Functional API\n",
        "Çok girdi ve çok çıktı modeller kurmak için.Basit ve esnek\n",
        "\n",
        "İkisi de deklaratiftir.Yani kullanmak istediğiniz katmanları ve bu katmanları nasıl bağlanacağını deklara ederek mimariyi oluştururuz.\n",
        "--kolayca kaydedebilir,kopyalayabilir,paylaşabiliriz.\n",
        "Dinamik modellerde pek uygun değildir.\n",
        "\n",
        "3)Subclassing API\n",
        "Daha çok akademiik araştırmalar için daha dinamiktir.Daha zor."
      ],
      "metadata": {
        "id": "dRgmxowAK506"
      }
    },
    {
      "cell_type": "markdown",
      "source": [],
      "metadata": {
        "id": "UG7yocfLL1qp"
      }
    },
    {
      "cell_type": "markdown",
      "source": [
        "# **Subclassing** **API**"
      ],
      "metadata": {
        "id": "XlxUqmnwL3Sn"
      }
    },
    {
      "cell_type": "markdown",
      "source": [
        "-önce rastgele başlangıç ağırlıkları üretildi\n",
        "\n",
        "-Sonra bu değerler x girdisiyle matris çarpımı yapıldı ve çıkan sonucu bir bias eklendi.\n",
        "\n"
      ],
      "metadata": {
        "id": "Gf9jFNFaOez7"
      }
    },
    {
      "cell_type": "code",
      "execution_count": 1,
      "metadata": {
        "id": "bD6KkIz6JKo2"
      },
      "outputs": [],
      "source": [
        "import tensorflow as tf\n",
        "from tensorflow import keras"
      ]
    },
    {
      "cell_type": "markdown",
      "source": [
        "# Custom Layer with Subclassing API"
      ],
      "metadata": {
        "id": "gTP491snQNgU"
      }
    },
    {
      "cell_type": "code",
      "source": [
        "class Linear(keras.layers.Layer):#Linear sınıfı Keras Layers dan miras alıyor.\n",
        "  def __init__(self, units=32, input_dim = 32):\n",
        "    #init sınıftan örnek aldığımızda çalışacak.Bu metodun ilk parametresi selftir.Metoda nöron sayısı ve input boyutu verilir.\n",
        "    super(Linear,self).__init__()\n",
        "\n",
        "    #başlangıç ağırlıklarını oluşturalım:\n",
        "    w_init= tf.random_normal_initializer()\n",
        "    self.w=tf.Variable(\n",
        "        initial_value=w_init(shape=(input_dim,units), dtype=\"float32\"),\n",
        "        trainable=True #ağırlıkların eğitilebilir olması için\n",
        "    )\n",
        "    #bias oluşturalım\n",
        "    b_init = tf.zeros_initializer()\n",
        "    self.b = tf.Variable(\n",
        "        initial_value=b_init(shape=(units,), dtype=\"float32\"),\n",
        "        trainable=True\n",
        "    )\n",
        "  def call(self,inputs):\n",
        "    #katmanımız linear oldugundan girdiler ve ağırlıklar matris çarpımıyla çarpılır.\n",
        "    return tf.matmul(inputs, self.w) + self.b"
      ],
      "metadata": {
        "id": "1jWp5iFHMGbi"
      },
      "execution_count": 2,
      "outputs": []
    },
    {
      "cell_type": "code",
      "source": [
        "#girdi verisi oluşturalım\n",
        "x=tf.ones((2,2))\n",
        "x"
      ],
      "metadata": {
        "colab": {
          "base_uri": "https://localhost:8080/"
        },
        "id": "TGyDoosaN1Xu",
        "outputId": "f3d81a00-2f30-40da-d565-0daf794c91f2"
      },
      "execution_count": 3,
      "outputs": [
        {
          "output_type": "execute_result",
          "data": {
            "text/plain": [
              "<tf.Tensor: shape=(2, 2), dtype=float32, numpy=\n",
              "array([[1., 1.],\n",
              "       [1., 1.]], dtype=float32)>"
            ]
          },
          "metadata": {},
          "execution_count": 3
        }
      ]
    },
    {
      "cell_type": "code",
      "source": [
        "#bu linear sınıfından bir örnek alalım\n",
        "linear_layer=Linear(4,2)\n",
        "#veriyi bu katmandan geçirelim\n",
        "y=linear_layer(x)\n",
        "y"
      ],
      "metadata": {
        "colab": {
          "base_uri": "https://localhost:8080/"
        },
        "id": "-E8XGElhN-6w",
        "outputId": "719a319a-28c2-4906-97b7-3cd42e7774cc"
      },
      "execution_count": 4,
      "outputs": [
        {
          "output_type": "execute_result",
          "data": {
            "text/plain": [
              "<tf.Tensor: shape=(2, 4), dtype=float32, numpy=\n",
              "array([[0.08621818, 0.0580382 , 0.09978607, 0.03098121],\n",
              "       [0.08621818, 0.0580382 , 0.09978607, 0.03098121]], dtype=float32)>"
            ]
          },
          "metadata": {},
          "execution_count": 4
        }
      ]
    },
    {
      "cell_type": "code",
      "source": [
        "linear_layer.weights\n"
      ],
      "metadata": {
        "colab": {
          "base_uri": "https://localhost:8080/"
        },
        "id": "t6pyYt87Oqlj",
        "outputId": "c5467fff-74da-4743-fe4c-27e65f0bc2b1"
      },
      "execution_count": 5,
      "outputs": [
        {
          "output_type": "execute_result",
          "data": {
            "text/plain": [
              "[]"
            ]
          },
          "metadata": {},
          "execution_count": 5
        }
      ]
    },
    {
      "cell_type": "markdown",
      "source": [
        "# Custom Layer using add_weight\n",
        "--katmana ağırlık ekleyelim."
      ],
      "metadata": {
        "id": "SYBULExAQaFc"
      }
    },
    {
      "cell_type": "code",
      "source": [
        "class Linear(keras.layers.Layer):\n",
        "  def __init__(self, units=32, input_dim = 32):\n",
        "    super(Linear,self).__init__()\n",
        "    self.w=self.add_weight(shape=(input_dim,units),\n",
        "                           initializer=\"random_normal\",\n",
        "                           trainable=True)\n",
        "    self.b=self.add_weight(shape=(units,),\n",
        "                           initializer=\"zeros\",\n",
        "                           trainable=True)\n",
        "\n",
        "  def call(self,inputs):\n",
        "    return tf.matmul(inputs, self.w) + self.b"
      ],
      "metadata": {
        "id": "0tel2NT5QgTp"
      },
      "execution_count": 6,
      "outputs": []
    },
    {
      "cell_type": "code",
      "source": [
        "x = tf.ones((2,2))\n",
        "linear_layer = Linear(4,2)\n",
        "y = linear_layer(x)"
      ],
      "metadata": {
        "id": "pHIrHD-yQ6VE"
      },
      "execution_count": 7,
      "outputs": []
    },
    {
      "cell_type": "code",
      "source": [
        "y"
      ],
      "metadata": {
        "colab": {
          "base_uri": "https://localhost:8080/"
        },
        "id": "b-rPIDg7RXWV",
        "outputId": "d36746a7-a9e2-4f8d-936a-2de855c4c0d6"
      },
      "execution_count": 8,
      "outputs": [
        {
          "output_type": "execute_result",
          "data": {
            "text/plain": [
              "<tf.Tensor: shape=(2, 4), dtype=float32, numpy=\n",
              "array([[0.0848397 , 0.02597267, 0.02139331, 0.03164777],\n",
              "       [0.0848397 , 0.02597267, 0.02139331, 0.03164777]], dtype=float32)>"
            ]
          },
          "metadata": {},
          "execution_count": 8
        }
      ]
    },
    {
      "cell_type": "markdown",
      "source": [
        "# Custom Layer without the shape of the inputs\n",
        "\n",
        "birçok durumda girdilerimizin boyutunu önceden bilemeyebiliriz."
      ],
      "metadata": {
        "id": "57P-kGYakCl1"
      }
    },
    {
      "cell_type": "code",
      "source": [
        "class Linear(keras.layers.Layer):\n",
        "  def __init__(self,units=32):\n",
        "    super(Linear,self).__init__()\n",
        "    self.units=units\n",
        "  def build(self,input_shape):\n",
        "    self.w=self.add_weight(shape=(input_shape[-1],self.units),\n",
        "                           initializer=\"random_normal\",\n",
        "                           trainable=True)\n",
        "    self.b=self.add_weight(shape=(self.units,),\n",
        "                           initializer=\"random_normal\",\n",
        "                           trainable=True)\n",
        "  def call(self,inputs):\n",
        "    return tf.matmul(inputs,self.w)+self.b"
      ],
      "metadata": {
        "id": "ZoRK6m56kE75"
      },
      "execution_count": 15,
      "outputs": []
    },
    {
      "cell_type": "code",
      "source": [
        "#katman örneği alalım\n",
        "linear_layer=Linear(32) #nöron boyutu\n",
        "y=linear_layer(x)\n",
        "y"
      ],
      "metadata": {
        "colab": {
          "base_uri": "https://localhost:8080/"
        },
        "id": "k9_Y_5FClk5N",
        "outputId": "f1af5ab5-ad67-48ac-f4b5-38cef008565a"
      },
      "execution_count": 16,
      "outputs": [
        {
          "output_type": "execute_result",
          "data": {
            "text/plain": [
              "<tf.Tensor: shape=(2, 32), dtype=float32, numpy=\n",
              "array([[ 0.03480168,  0.11780477, -0.07146603,  0.09356807,  0.00287807,\n",
              "         0.016788  , -0.02560977, -0.050952  ,  0.00416769,  0.09172215,\n",
              "        -0.02337775,  0.02248864, -0.02516513,  0.07314226,  0.02300491,\n",
              "        -0.09440732,  0.15255876, -0.00376333, -0.01522268,  0.06076122,\n",
              "         0.01635852, -0.06077199,  0.05912334,  0.03288104,  0.12464747,\n",
              "         0.08507667,  0.05974192,  0.09405755,  0.16892117, -0.0013404 ,\n",
              "         0.06889161,  0.05309429],\n",
              "       [ 0.03480168,  0.11780477, -0.07146603,  0.09356807,  0.00287807,\n",
              "         0.016788  , -0.02560977, -0.050952  ,  0.00416769,  0.09172215,\n",
              "        -0.02337775,  0.02248864, -0.02516513,  0.07314226,  0.02300491,\n",
              "        -0.09440732,  0.15255876, -0.00376333, -0.01522268,  0.06076122,\n",
              "         0.01635852, -0.06077199,  0.05912334,  0.03288104,  0.12464747,\n",
              "         0.08507667,  0.05974192,  0.09405755,  0.16892117, -0.0013404 ,\n",
              "         0.06889161,  0.05309429]], dtype=float32)>"
            ]
          },
          "metadata": {},
          "execution_count": 16
        }
      ]
    },
    {
      "cell_type": "markdown",
      "source": [
        "# Layers are recursively composable\n",
        "\n",
        "Bazen ard arda gelen katmanları birleştirmek isteyebiliriz.\n",
        "\n",
        "MLP dir.\n"
      ],
      "metadata": {
        "id": "Qj0ohy3jmBI1"
      }
    },
    {
      "cell_type": "code",
      "source": [
        "class MLPBlock(keras.layers.Layer):\n",
        "  def __init__(self):\n",
        "    super(MLPBlock, self).__init__()\n",
        "    self.linear_1 = Linear(32)\n",
        "    self.linear_2 = Linear(32)\n",
        "    self.linear_3 = Linear(1)\n",
        "  def call(self, inputs):\n",
        "    x = self.linear_1(inputs)\n",
        "    x = tf.nn.relu(x)\n",
        "    x = self.linear_2(x)\n",
        "    x = tf.nn.relu(x)\n",
        "    return self.linear_3(x)"
      ],
      "metadata": {
        "id": "RRIwWvNGmDX3"
      },
      "execution_count": 17,
      "outputs": []
    },
    {
      "cell_type": "code",
      "source": [
        "mlp = MLPBlock()\n",
        "y = mlp(tf.ones(shape=(3,64)))"
      ],
      "metadata": {
        "id": "wBViko7Kmxk0"
      },
      "execution_count": 18,
      "outputs": []
    },
    {
      "cell_type": "code",
      "source": [
        "mlp.weights"
      ],
      "metadata": {
        "colab": {
          "base_uri": "https://localhost:8080/"
        },
        "id": "EpD34ELUm3z9",
        "outputId": "4c56336c-3277-4c8d-d24a-dde40f562c43"
      },
      "execution_count": 19,
      "outputs": [
        {
          "output_type": "execute_result",
          "data": {
            "text/plain": [
              "[<Variable path=mlp_block/linear_6/variable_4, shape=(64, 32), dtype=float32, value=[[ 0.04053406 -0.05016517  0.01516337 ...  0.01225795 -0.01203081\n",
              "   -0.03253184]\n",
              "  [-0.00952591  0.06968482  0.01553858 ... -0.11527377 -0.04697023\n",
              "    0.06715441]\n",
              "  [-0.04270023 -0.01283539  0.03078434 ... -0.01578767  0.02714171\n",
              "   -0.01831546]\n",
              "  ...\n",
              "  [-0.02653     0.05365742 -0.0215816  ...  0.10659082 -0.00320693\n",
              "   -0.14810663]\n",
              "  [ 0.0273397   0.00937178  0.01770925 ... -0.01762283 -0.02773935\n",
              "    0.04364376]\n",
              "  [ 0.04169704 -0.01985934  0.06907679 ...  0.03022309  0.04251691\n",
              "   -0.03191711]]>,\n",
              " <Variable path=mlp_block/linear_6/variable_5, shape=(32,), dtype=float32, value=[ 0.05304926  0.00774437 -0.03757168 -0.02044045  0.03601442 -0.03246492\n",
              "  -0.02451975  0.02543026 -0.0441302   0.05765259 -0.08321667  0.03250953\n",
              "   0.06687843 -0.00884438  0.01845261  0.03852453 -0.02811182  0.03455951\n",
              "  -0.03736652  0.04717435 -0.05776708  0.04603823  0.07512236 -0.00754415\n",
              "  -0.05295792  0.02957914 -0.10435795 -0.04807151 -0.02742209 -0.02413224\n",
              "  -0.05325046  0.03419694]>,\n",
              " <Variable path=mlp_block/linear_7/variable_6, shape=(32, 32), dtype=float32, value=[[ 0.05097656  0.05059828  0.06494283 ...  0.00511532  0.03169611\n",
              "   -0.01843887]\n",
              "  [-0.04817129  0.03389811  0.04317179 ... -0.02204222  0.12593107\n",
              "   -0.01227276]\n",
              "  [ 0.02997894 -0.00445533 -0.02057384 ...  0.05816488 -0.05492542\n",
              "   -0.08583167]\n",
              "  ...\n",
              "  [-0.01469103 -0.01410996 -0.05918561 ... -0.01497429  0.00475482\n",
              "    0.0371305 ]\n",
              "  [ 0.04013864 -0.05233812  0.06618223 ... -0.00780569  0.00594234\n",
              "    0.0197061 ]\n",
              "  [-0.02049552  0.02950697  0.00483716 ... -0.03942975 -0.02734582\n",
              "    0.02870864]]>,\n",
              " <Variable path=mlp_block/linear_7/variable_7, shape=(32,), dtype=float32, value=[-0.03540266 -0.13116062  0.03041892  0.04235023 -0.00913977  0.03889632\n",
              "   0.07679242 -0.02016217  0.03157423 -0.02411506  0.02734083 -0.04045724\n",
              "  -0.04569617 -0.08054665 -0.00785158 -0.09862247 -0.03302148  0.07464593\n",
              "   0.00792089 -0.06720596 -0.00948363 -0.00326841  0.05816429  0.01203004\n",
              "  -0.10186279  0.01775709 -0.05539595  0.02402748 -0.07694217 -0.03845744\n",
              "   0.02131433 -0.09404282]>,\n",
              " <Variable path=mlp_block/linear_8/variable_8, shape=(32, 1), dtype=float32, value=[[-0.0890335 ]\n",
              "  [ 0.07768296]\n",
              "  [ 0.04127348]\n",
              "  [-0.06941067]\n",
              "  [-0.03795065]\n",
              "  [-0.08100164]\n",
              "  [ 0.05310911]\n",
              "  [ 0.01625023]\n",
              "  [ 0.0260985 ]\n",
              "  [ 0.01924143]\n",
              "  [ 0.04752548]\n",
              "  [-0.02279819]\n",
              "  [-0.01105158]\n",
              "  [-0.02220368]\n",
              "  [ 0.10823504]\n",
              "  [ 0.02479189]\n",
              "  [-0.02870757]\n",
              "  [-0.04892872]\n",
              "  [-0.08770733]\n",
              "  [-0.00869326]\n",
              "  [ 0.07071277]\n",
              "  [-0.00977457]\n",
              "  [-0.08853135]\n",
              "  [ 0.07570062]\n",
              "  [ 0.01164592]\n",
              "  [-0.05361902]\n",
              "  [ 0.02056616]\n",
              "  [ 0.0481608 ]\n",
              "  [-0.00606854]\n",
              "  [ 0.00307663]\n",
              "  [ 0.1359369 ]\n",
              "  [-0.03559559]]>,\n",
              " <Variable path=mlp_block/linear_8/variable_9, shape=(1,), dtype=float32, value=[-0.00526814]>]"
            ]
          },
          "metadata": {},
          "execution_count": 19
        }
      ]
    }
  ]
}